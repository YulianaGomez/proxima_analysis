{
 "cells": [
  {
   "cell_type": "code",
   "execution_count": 102,
   "metadata": {},
   "outputs": [
    {
     "data": {
      "text/html": [
       "<style>.container { width:100% !important; }</style>"
      ],
      "text/plain": [
       "<IPython.core.display.HTML object>"
      ]
     },
     "metadata": {},
     "output_type": "display_data"
    }
   ],
   "source": [
    "import json\n",
    "from collections import defaultdict\n",
    "import os\n",
    "import matplotlib.pyplot as plt\n",
    "import pandas as pd\n",
    "import numpy as np\n",
    "import glob\n",
    "import numpy as np\n",
    "from sklearn.metrics import mean_absolute_error\n",
    "from matplotlib.ticker import ScalarFormatter\n",
    "import statistics as stat\n",
    "\n",
    "import proxima_analysis as pa\n",
    "\n",
    "from IPython.core.display import display, HTML\n",
    "display(HTML('<style>.container { width:100% !important; }</style>'))\n",
    "\n",
    "BIG    = 22\n",
    "MEDIUM = 20\n",
    "FIGWIDTH=12\n",
    "WIDTH = 0.25  # the width of the bars\n",
    "NARROW=0.2\n",
    "\n",
    "XLINE  = 523.21\n",
    "YLINE  = 0.002\n",
    "\n",
    "colors = ['#E27100', '#1b85b8', '#559e83', '#b26167']\n",
    "\n",
    "# Starting to define standardized colors\n",
    "MAE_COLOR =colors[1]\n",
    "TIME_COLOR=colors[0]\n",
    "\n",
    "FIXED_COLOR  = 'tbd'\n",
    "STATIC_COLOR = 'tbd'\n",
    "DYNAMIC_COLOR= 'tbd'\n",
    "\n",
    "FIXED_MARKER='tbd'\n",
    "STATIC_MARKER='tbd'\n",
    "DYNAMIC_MARKER='tbd'"
   ]
  },
  {
   "cell_type": "code",
   "execution_count": 103,
   "metadata": {},
   "outputs": [],
   "source": [
    "\n",
    "##Running Proxima without reference data (true)\n",
    "experiments_true = [\n",
    "    'true-run_rs1',\n",
    "    'true-run_rs2',\n",
    "    'true-run_rs3',\n",
    "    'true-run_rs4',\n",
    "    'true-run_rs5',\n",
    "    'true-run_rs6',\n",
    "    'true-run_rs7',\n",
    "    'true-run_rs8',\n",
    "    'true-run_rs9',\n",
    "    'true-run_rs10',\n",
    "]\n",
    "\n",
    "#Running Proxima with reference data\n",
    "experiments = [\n",
    "    'dynLns_r1',\n",
    "    'dynLns_r3',## Need to run dynamic with ref. data, seed =2\n",
    "    'dynLns_r4',\n",
    "    'dynLns_r5',\n",
    "    'dynLns_r6',\n",
    "    'dynLns_r7',\n",
    "    'dynLns_r8',\n",
    "    'dynLns_r9',\n",
    "    'dynLns_r10',\n",
    "]\n",
    "\n",
    "#Running FIXED(0.3,50)\n",
    "experiment_ss = [\n",
    "    'ss-true_rs1',\n",
    "    'ss-true_rs2',\n",
    "    'ss-true_rs3',\n",
    "    'ss-true_rs4',\n",
    "    'ss-true_rs5',\n",
    "    'ss-true_rs6',\n",
    "    'ss-true_rs7',\n",
    "    'ss-true_rs8',\n",
    "    'ss-true_rs9',\n",
    "    'ss-true_rs10',\n",
    "]\n",
    "root_path = '../proxima_data'"
   ]
  },
  {
   "cell_type": "markdown",
   "metadata": {},
   "source": [
    "## ROG results of Target function"
   ]
  },
  {
   "cell_type": "code",
   "execution_count": 104,
   "metadata": {},
   "outputs": [],
   "source": [
    "rog_hf = defaultdict(list)\n",
    "run_name = 'random-seed_runs/hf_rog'\n",
    "file = \"/\".join([root_path, run_name,'result*'])\n",
    "for f in glob.glob(file):\n",
    "    control_fn = os.path.basename(f).split('_')\n",
    "    temp = control_fn[1].split(\".json\")[0]\n",
    "    temp = str(int(float(temp)))\n",
    "    with open(f) as data:\n",
    "        rog_hf[temp].append(\n",
    "            json.loads(\n",
    "                data.read()\n",
    "            ).get(\"r_g\", None).get(\"statistic\", None)\n",
    "        )\n",
    "        \n",
    "temps = []; rogs_median = []; rogs_std = []\n",
    "for k, v in rog_hf.items():\n",
    "    temps.append(float(k))\n",
    "    rogs_median.append(np.median(v))\n",
    "    #rogs_median.append(np.mean(v))\n",
    "    rogs_std.append(np.std(v)/np.sqrt(len(v)-1))\n",
    "\n",
    "temps, rogs_median, rogs_std = zip(*sorted(zip(temps, rogs_median, rogs_std)))"
   ]
  },
  {
   "cell_type": "code",
   "execution_count": 105,
   "metadata": {},
   "outputs": [
    {
     "data": {
      "text/plain": [
       "dict_keys(['400', '300', '500', '100', '200', '900', '600', '800', '700', '1000'])"
      ]
     },
     "execution_count": 105,
     "metadata": {},
     "output_type": "execute_result"
    }
   ],
   "source": [
    "rog_hf.keys()"
   ]
  },
  {
   "cell_type": "markdown",
   "metadata": {},
   "source": [
    "## ROG results for true simulations w/ Proxima"
   ]
  },
  {
   "cell_type": "code",
   "execution_count": 106,
   "metadata": {},
   "outputs": [],
   "source": [
    "rog_dynLns = defaultdict(list)\n",
    "\n",
    "## True runs - MC simulations not using reference data, running Proxima, lazy training, no surrogate limit\n",
    "## dynLNS - Proxima, with reference data (lazy training, no surrogate limit)\n",
    "#run_name = 'random-seed_runs/dynLns_*'\n",
    "run_name = 'random-seed_runs/true-run*'\n",
    "dirs = \"/\".join([root_path, run_name])\n",
    "\n",
    "for d in glob.glob(dirs):\n",
    "    \n",
    "    subdirs = \"/\".join([d, \"*\"])\n",
    "    for s in glob.glob(subdirs):\n",
    "    \n",
    "        control_fn = os.path.basename(s).split('_')\n",
    "        temp = control_fn[6]\n",
    "        try:\n",
    "            with open(s + '/result.json') as data:\n",
    "                rog_dynLns[temp].append(\n",
    "                    json.loads(\n",
    "                        data.read()\n",
    "                    ).get(\"r_g\", None).get(\"statistic\", None)\n",
    "                )\n",
    "        except:\n",
    "            pass\n",
    "\n",
    "temps_dynLns = []; rogs_dynLns_median = []; rogs_dynLns_std = []\n",
    "for k, v in rog_dynLns.items():\n",
    "    temps_dynLns.append(float(k))\n",
    "    rogs_dynLns_median.append(np.median(v))\n",
    "    #rogs_dynLns_median.append(np.mean(v))\n",
    "    rogs_dynLns_std.append(np.std(v)/np.sqrt(len(v)))\n",
    "\n",
    "temps_dynLns, rogs_dynLns_median, rogs_dynLns_std = zip(\n",
    "    *sorted(zip(temps_dynLns, rogs_dynLns_median, rogs_dynLns_std))\n",
    ")"
   ]
  },
  {
   "cell_type": "code",
   "execution_count": 107,
   "metadata": {},
   "outputs": [
    {
     "data": {
      "text/plain": [
       "dict_keys(['200', '700', '100', '1000', '300', '900', '500', '800', '600', '400'])"
      ]
     },
     "execution_count": 107,
     "metadata": {},
     "output_type": "execute_result"
    }
   ],
   "source": [
    "rog_dynLns.keys()"
   ]
  },
  {
   "cell_type": "markdown",
   "metadata": {},
   "source": [
    "## ROG results for Simple surrogate \n",
    "Fixed Parameters - 0.3, 50"
   ]
  },
  {
   "cell_type": "code",
   "execution_count": 108,
   "metadata": {},
   "outputs": [],
   "source": [
    "rog_SS = defaultdict(list)\n",
    "\n",
    "## True runs - MC simulations not using reference data, running Proxima, lazy training, no surrogate limit\n",
    "## dynLNS - Proxima, with reference data (lazy training, no surrogate limit)\n",
    "#run_name = 'random-seed_runs/dynLns_*'\n",
    "run_name = 'random-seed_runs/ss-true*'\n",
    "dirs = \"/\".join([root_path, run_name])\n",
    "\n",
    "for d in glob.glob(dirs):\n",
    "    \n",
    "    subdirs = \"/\".join([d, \"*\"])\n",
    "    for s in glob.glob(subdirs):\n",
    "    \n",
    "        control_fn = os.path.basename(s).split('_')\n",
    "        temp = control_fn[6]\n",
    "        try:\n",
    "            with open(s + '/result.json') as data:\n",
    "                rog_SS[temp].append(\n",
    "                    json.loads(\n",
    "                        data.read()\n",
    "                    ).get(\"r_g\", None).get(\"statistic\", None)\n",
    "                )\n",
    "        except:\n",
    "            pass\n",
    "\n",
    "temps_SS = []; rogs_SS_median = []; rogs_SS_std = []\n",
    "for k, v in rog_SS.items():\n",
    "    temps_SS.append(float(k))\n",
    "    #rogs_SS_median.append(np.median(v))\n",
    "    rogs_SS_median.append(np.mean(v))\n",
    "    rogs_SS_std.append(np.std(v)/np.sqrt(len(v)))\n",
    "\n",
    "temps_SS, rogs_SS_median, rogs_SS_std = zip(\n",
    "    *sorted(zip(temps_SS, rogs_SS_median, rogs_SS_std))\n",
    ")"
   ]
  },
  {
   "cell_type": "code",
   "execution_count": 109,
   "metadata": {},
   "outputs": [
    {
     "data": {
      "text/plain": [
       "dict_keys(['1000', '700', '400', '800', '600', '200', '900', '500', '100', '300'])"
      ]
     },
     "execution_count": 109,
     "metadata": {},
     "output_type": "execute_result"
    }
   ],
   "source": [
    "rog_SS.keys()"
   ]
  },
  {
   "cell_type": "code",
   "execution_count": 110,
   "metadata": {
    "scrolled": true
   },
   "outputs": [],
   "source": [
    "#rogs_SS_median\n",
    "## Side calculations"
   ]
  },
  {
   "cell_type": "code",
   "execution_count": 111,
   "metadata": {},
   "outputs": [],
   "source": [
    "good_std = np.std([r for r in rog_dynLns['400'] if r < 0.275])"
   ]
  },
  {
   "cell_type": "code",
   "execution_count": 112,
   "metadata": {},
   "outputs": [],
   "source": [
    "good_mean = np.median([r for r in rog_dynLns['400'] if r < 0.275])"
   ]
  },
  {
   "cell_type": "code",
   "execution_count": 113,
   "metadata": {},
   "outputs": [],
   "source": [
    "full_std = np.std([r for r in rog_dynLns['400'] if r < 0.4])\n",
    "full_mean = np.median([r for r in rog_dynLns['400'] if r < 0.4])"
   ]
  },
  {
   "cell_type": "code",
   "execution_count": 114,
   "metadata": {},
   "outputs": [
    {
     "data": {
      "text/plain": [
       "3.3079459184550775"
      ]
     },
     "execution_count": 114,
     "metadata": {},
     "output_type": "execute_result"
    }
   ],
   "source": [
    "outlier = 0.2784916750097781 \n",
    "(outlier - full_mean)/full_std"
   ]
  },
  {
   "cell_type": "code",
   "execution_count": 115,
   "metadata": {},
   "outputs": [
    {
     "data": {
      "text/plain": [
       "19.618690558621616"
      ]
     },
     "execution_count": 115,
     "metadata": {},
     "output_type": "execute_result"
    }
   ],
   "source": [
    "outlier = 0.2784916750097781 \n",
    "(outlier - good_mean)/good_std"
   ]
  },
  {
   "cell_type": "code",
   "execution_count": 116,
   "metadata": {},
   "outputs": [],
   "source": [
    "mylist = [r for r in rog_dynLns['400'] if r < 0.3]"
   ]
  },
  {
   "cell_type": "code",
   "execution_count": 117,
   "metadata": {},
   "outputs": [
    {
     "data": {
      "text/plain": [
       "[0.2736137359693603,\n",
       " 0.2736287045348181,\n",
       " 0.2737594994850852,\n",
       " 0.27376152580691054,\n",
       " 0.2737999073837394,\n",
       " 0.27392838512020684,\n",
       " 0.27394275298367926,\n",
       " 0.2742383749188642,\n",
       " 0.2743403945366164,\n",
       " 0.2784916750097781]"
      ]
     },
     "execution_count": 117,
     "metadata": {},
     "output_type": "execute_result"
    }
   ],
   "source": [
    "sorted(mylist)"
   ]
  },
  {
   "cell_type": "markdown",
   "metadata": {},
   "source": [
    "# Median ROG vs Temperature"
   ]
  },
  {
   "cell_type": "code",
   "execution_count": 184,
   "metadata": {},
   "outputs": [
    {
     "data": {
      "image/png": "[encoded data removed]",
      "text/plain": [
       "<Figure size 864x504 with 1 Axes>"
      ]
     },
     "metadata": {
      "needs_background": "light"
     },
     "output_type": "display_data"
    }
   ],
   "source": [
    "fig, ax = plt.subplots(figsize=(FIGWIDTH,7))\n",
    "\n",
    "plt.xlabel('Execution time',fontsize=BIG)\n",
    "plt.ylabel('Mean absolute error', fontsize=BIG)\n",
    "plt.xticks(fontsize=MEDIUM)\n",
    "plt.yticks(fontsize=MEDIUM)\n",
    "ax.yaxis.get_offset_text().set_fontsize(MEDIUM)\n",
    "ax.errorbar(temps,rogs_median,yerr=rogs_std,label='Target', capsize=12.0, fmt=\"s-\")\n",
    "ax.errorbar(temps_dynLns,rogs_dynLns_median,yerr=rogs_dynLns_std,label='Dynamic', capsize=8.0, fmt=\"^-\")\n",
    "ax.errorbar(temps_SS,rogs_SS_median,yerr=rogs_SS_std,label='Fixed', capsize=8.0, fmt=\"*-\")\n",
    "#ax.errorbar(temps,mean_d,yerr=[d_mins,d_maxes],label='Dynamic', capsize=8.0, fmt=\"o-\")\n",
    "\n",
    "plt.legend()\n",
    "plt.xlabel('Temperature (K)')\n",
    "plt.ylabel('Mean RoG ($\\AA$)')\n",
    "#plt.savefig('Figures/meadian_ROG.pdf')\n",
    "plt.savefig('Figures/mean_ROG.pdf')"
   ]
  },
  {
   "cell_type": "markdown",
   "metadata": {},
   "source": [
    "## Mean Time vs Temperature"
   ]
  },
  {
   "cell_type": "code",
   "execution_count": 119,
   "metadata": {
    "scrolled": false
   },
   "outputs": [],
   "source": [
    "#root_path_hf = '/home/yzamora/proxima/examples/molecule-sampling'\n",
    "run_name = 'random-seed_runs/runtime_random-seeds/*'\n",
    "path_str = '/'.join([root_path,run_name])\n",
    "temp_hf_data =  defaultdict(list)\n",
    "rs = defaultdict(list)\n",
    "for d in glob.glob(path_str):\n",
    "    hf = pd.read_csv(d).set_index(\"Temp[K]\")\n",
    "    for i in hf.index:\n",
    "        temp_hf_data[i].append(float(hf.loc[i]))\n",
    "        "
   ]
  },
  {
   "cell_type": "code",
   "execution_count": 120,
   "metadata": {
    "scrolled": false
   },
   "outputs": [],
   "source": [
    "temps_hf = []; runtime_hf_mean = []; runtime_hf_std = []\n",
    "for i,k in temp_hf_data.items():\n",
    "    temps_hf.append(float(i))\n",
    "    runtime_hf_mean.append(np.mean(k))\n",
    "    runtime_hf_std.append(np.std(k)/np.sqrt(len(k)))\n",
    "    \n",
    "temps_hf, runtime_hf_mean, runtime_hf_std = zip(\n",
    "    *sorted(zip(temps_hf, runtime_hf_mean, runtime_hf_std))\n",
    ")"
   ]
  },
  {
   "cell_type": "markdown",
   "metadata": {},
   "source": [
    "## High Fidelity times dataframe"
   ]
  },
  {
   "cell_type": "code",
   "execution_count": 121,
   "metadata": {},
   "outputs": [],
   "source": [
    "hf_times = pd.DataFrame(\n",
    "    {\n",
    "        \"Temp[K]\": np.array(temps_hf, dtype=\"int\"),\n",
    "        \"Runtime[s]\": runtime_hf_mean\n",
    "    }\n",
    ")\n"
   ]
  },
  {
   "cell_type": "markdown",
   "metadata": {},
   "source": [
    "# Proxima"
   ]
  },
  {
   "cell_type": "markdown",
   "metadata": {},
   "source": [
    "## Using Reference data"
   ]
  },
  {
   "cell_type": "code",
   "execution_count": 122,
   "metadata": {},
   "outputs": [],
   "source": [
    "results = {n: None for n in experiments}\n",
    "for name in results:\n",
    "    path_str = \"/\".join([root_path, 'random-seed_runs',name, \"*\"])\n",
    "    path = glob.glob(path_str)\n",
    "    uq_thresholds, int_list, total_time, uq_time, speed_up = pa.process_times(path,hf_times)\n",
    "    \n",
    "    time_df = pa.time_to_df(uq_time)\n",
    "    speedup_df = pa.speedup_to_df(speed_up)\n",
    "    mae_values = pa.process_mae(path)\n",
    "    mae_df = pa.mae_to_df(mae_values)\n",
    "    #results[name] = time_df.merge(mae_df, on=[\"uq\", \"interval\",\"temperature\"], how=\"inner\")\n",
    "    time_mae = time_df.merge(mae_df, on=[\"uq\", \"interval\",\"temperature\"], how=\"inner\")\n",
    "    results[name]=speedup_df.merge(time_mae, on=[\"uq\", \"interval\",\"temperature\"], how=\"inner\")"
   ]
  },
  {
   "cell_type": "markdown",
   "metadata": {},
   "source": [
    "## No reference data"
   ]
  },
  {
   "cell_type": "code",
   "execution_count": 123,
   "metadata": {
    "scrolled": true
   },
   "outputs": [],
   "source": [
    "results_true = {n: None for n in experiments_true}\n",
    "for name in results_true:\n",
    "    path_str = \"/\".join([root_path, 'random-seed_runs',name, \"*\"])\n",
    "    path = glob.glob(path_str)\n",
    "    uq_thresholds, int_list, total_time, uq_time, speed_up = pa.process_times(path,hf_times)\n",
    "    \n",
    "    time_df = pa.time_to_df(uq_time)\n",
    "    speedup_df = pa.speedup_to_df(speed_up)\n",
    "    mae_values = pa.process_mae(path)\n",
    "    mae_df = pa.mae_to_df(mae_values)\n",
    "    #results[name] = time_df.merge(mae_df, on=[\"uq\", \"interval\",\"temperature\"], how=\"inner\")\n",
    "    time_mae = time_df.merge(mae_df, on=[\"uq\", \"interval\",\"temperature\"], how=\"inner\")\n",
    "    results_true[name]=speedup_df.merge(time_mae, on=[\"uq\", \"interval\",\"temperature\"], how=\"inner\")"
   ]
  },
  {
   "cell_type": "markdown",
   "metadata": {},
   "source": [
    "## Fixed Parameters - 0.3, 50\n",
    "simple surrogate"
   ]
  },
  {
   "cell_type": "code",
   "execution_count": 124,
   "metadata": {},
   "outputs": [],
   "source": [
    "results_ss = {n: None for n in experiment_ss}\n",
    "for name in results_ss:\n",
    "    path_str = \"/\".join([root_path, 'random-seed_runs',name, \"*\"])\n",
    "    path = glob.glob(path_str)\n",
    "    uq_thresholds, int_list, total_time, uq_time, speed_up = pa.process_times(path,hf_times)\n",
    "    \n",
    "    time_df = pa.time_to_df(uq_time)\n",
    "    speedup_df = pa.speedup_to_df(speed_up)\n",
    "    mae_values = pa.process_mae(path)\n",
    "    mae_df = pa.mae_to_df(mae_values)\n",
    "    #results[name] = time_df.merge(mae_df, on=[\"uq\", \"interval\",\"temperature\"], how=\"inner\")\n",
    "    time_mae = time_df.merge(mae_df, on=[\"uq\", \"interval\",\"temperature\"], how=\"inner\")\n",
    "    results_ss[name]=speedup_df.merge(time_mae, on=[\"uq\", \"interval\",\"temperature\"], how=\"inner\")"
   ]
  },
  {
   "cell_type": "code",
   "execution_count": 125,
   "metadata": {},
   "outputs": [],
   "source": [
    "def summary_speedup(results):\n",
    "    data_temp = {}\n",
    "    cols = [\"speed_up\", \"time\", \"mae\"]\n",
    "\n",
    "    for i,k in results.items():\n",
    "        data = k.set_index('temperature')\n",
    "        for t in data.index:\n",
    "\n",
    "            if t not in data_temp:\n",
    "                data_temp[t] = defaultdict(list)\n",
    "\n",
    "            record = data.loc[t]\n",
    "\n",
    "            for col in cols:\n",
    "                data_temp[t][col].append(float(record[col]))\n",
    "    summary = defaultdict(list)\n",
    "    for i, k in data_temp.items():\n",
    "        summary[\"temps\"].append(float(i))\n",
    "        for col in cols:\n",
    "            summary[col + \"_mean\"].append(np.mean(k[col]))\n",
    "            summary[col + \"_std\"].append(np.std(k[col])/np.sqrt(len(k[col])))\n",
    "\n",
    "    keys = [\"temps\"] + [k for k in summary.keys() if k != \"temps\"]\n",
    "    result = list(zip(*sorted(zip(*[summary[k] for k in keys]))))\n",
    "    for i, k in enumerate(keys):\n",
    "        summary[k] = result[i]\n",
    "    return summary"
   ]
  },
  {
   "cell_type": "code",
   "execution_count": 126,
   "metadata": {
    "scrolled": true
   },
   "outputs": [],
   "source": [
    "summary_with_ref = summary_speedup(results)\n",
    "summary_no_ref = summary_speedup(results_true)\n",
    "summary_noref_fixed = summary_speedup(results_ss)"
   ]
  },
  {
   "cell_type": "code",
   "execution_count": 127,
   "metadata": {},
   "outputs": [
    {
     "name": "stdout",
     "output_type": "stream",
     "text": [
      "Proxima with reference 2.1493703839392335\n",
      "Proxima with no ref. data 1.6470570310896486\n",
      "Fixed parameters 2.331173836677802\n"
     ]
    }
   ],
   "source": [
    "## Harmonic mean of different cases\n",
    "print('Proxima with reference', stat.harmonic_mean(summary_with_ref['speed_up_mean']))\n",
    "print('Proxima with no ref. data', stat.harmonic_mean(summary_no_ref['speed_up_mean']))\n",
    "print('Fixed parameters', stat.harmonic_mean(summary_noref_fixed['speed_up_mean']))\n"
   ]
  },
  {
   "cell_type": "code",
   "execution_count": 128,
   "metadata": {},
   "outputs": [
    {
     "data": {
      "image/png": "[encoded data removed]",
      "text/plain": [
       "<Figure size 432x288 with 1 Axes>"
      ]
     },
     "metadata": {
      "needs_background": "light"
     },
     "output_type": "display_data"
    }
   ],
   "source": [
    "labels = list(summary_no_ref['temps'])\n",
    "x = np.arange(len(labels)) \n",
    "plt.ylabel('Mean absolute error', fontsize=BIG)\n",
    "plt.xlabel(\"Temperature (K)\", fontsize=BIG)\n",
    "ax.set_xticks(x)\n",
    "ax.set_xticklabels(labels)\n",
    "ax.yaxis.get_offset_text().set_fontsize(MEDIUM)\n",
    "ax.ticklabel_format(axis='y', style='scientific', scilimits=(0,0), useMathText=True)\n",
    "plt.xticks(fontsize=MEDIUM)\n",
    "plt.yticks(fontsize=MEDIUM)\n",
    "ax.legend(fontsize=BIG)\n",
    "plt.plot(summary_no_ref['temps'],summary_no_ref['mae_mean'], '.')\n",
    "\n",
    "plt.tight_layout()"
   ]
  },
  {
   "cell_type": "code",
   "execution_count": 129,
   "metadata": {},
   "outputs": [
    {
     "data": {
      "image/png": "[encoded data removed]",
      "text/plain": [
       "<Figure size 432x288 with 1 Axes>"
      ]
     },
     "metadata": {
      "needs_background": "light"
     },
     "output_type": "display_data"
    }
   ],
   "source": [
    "labels = list(summary_no_ref['temps'])\n",
    "x = np.arange(len(labels)) \n",
    "plt.ylabel('Speedup', fontsize=BIG)\n",
    "plt.xlabel(\"Temperature[K]\", fontsize=BIG)\n",
    "ax.set_xticks(x)\n",
    "ax.set_xticklabels(labels)\n",
    "ax.yaxis.get_offset_text().set_fontsize(MEDIUM)\n",
    "ax.ticklabel_format(axis='y', style='scientific', scilimits=(0,0), useMathText=True)\n",
    "plt.xticks(fontsize=MEDIUM)\n",
    "plt.yticks(fontsize=MEDIUM)\n",
    "ax.legend(fontsize=BIG)\n",
    "plt.plot(summary_no_ref['temps'],summary_no_ref['speed_up_mean'])\n",
    "\n",
    "plt.tight_layout()"
   ]
  },
  {
   "cell_type": "markdown",
   "metadata": {},
   "source": [
    "## Comparing Speed-ups Proxima versions\n",
    "Reference data vs no ref. data vs fixed surrogate without reference data"
   ]
  },
  {
   "cell_type": "code",
   "execution_count": 130,
   "metadata": {},
   "outputs": [],
   "source": [
    "from scipy.stats import sem\n",
    "\n",
    "def graph_speedup(RI, _speedup_da, _speedup_sa, _speedup_ss300, _speedup_ssnort):\n",
    "    labels = list(summary_no_ref['temps'])\n",
    "\n",
    "    x = np.arange(len(labels))  # the label locations\n",
    "    fig, ax = plt.subplots(figsize=(FIGWIDTH,5))\n",
    "    \n",
    "    #find error\n",
    "    \n",
    "    rects1 = ax.bar(x - WIDTH/2, list(_speedup_da), WIDTH,yerr=sem(list(_speedup_da)), label='Ref Data')\n",
    "    rects2 = ax.bar(x + WIDTH/2, list(_speedup_sa), WIDTH,yerr=sem(list(_speedup_sa)), label='No Ref Data')\n",
    "    if RI:\n",
    "        rects3 = ax.bar(x + (WIDTH/2)+WIDTH, list(_speedup_ss300), WIDTH,yerr=sem(list(_speedup_ss300)), label=r'Fixed, $T$=0.3, $RI$=50')\n",
    "    else:\n",
    "        rects3 = ax.bar(x + (WIDTH/2)+WIDTH, list(_speedup_ssnort), WIDTH,yerr=sem(list(_speedup_ssnort)), label=r'Fixed, $T$=0.3, $RI$=50')\n",
    "\n",
    "    ax.set_ylabel('Speedup', fontsize=BIG)\n",
    "    ax.set_xlabel('Temperature (K)', fontsize=BIG)\n",
    "    ax.set_xticks(x)\n",
    "    ax.set_xticklabels(labels)\n",
    "    plt.xticks(fontsize=MEDIUM)\n",
    "    plt.yticks(fontsize=MEDIUM)\n",
    "    ax.legend(fontsize=BIG)\n",
    "    plt.tight_layout()\n",
    "\n",
    "    \"\"\"if RI:\n",
    "        plt.savefig('Figures/speedup_best.pdf')\n",
    "    else:\n",
    "        plt.savefig('Figures/nort_speedup_bar.pdf')\"\"\"\n",
    "\n",
    "    plt.show()"
   ]
  },
  {
   "cell_type": "code",
   "execution_count": 131,
   "metadata": {},
   "outputs": [
    {
     "data": {
      "image/png": "[encoded data removed]",
      "text/plain": [
       "<Figure size 864x360 with 1 Axes>"
      ]
     },
     "metadata": {
      "needs_background": "light"
     },
     "output_type": "display_data"
    }
   ],
   "source": [
    "graph_speedup(False, summary_with_ref['speed_up_mean'], summary_no_ref['speed_up_mean'], None,summary_noref_fixed['speed_up_mean'])"
   ]
  },
  {
   "cell_type": "markdown",
   "metadata": {},
   "source": [
    "## Speedups of Proxima vs Fixed\n",
    "No Reference data"
   ]
  },
  {
   "cell_type": "code",
   "execution_count": 132,
   "metadata": {},
   "outputs": [],
   "source": [
    "def graph_speedup(RI, _speedup_da, _speedup_sa, _speedup_ss300, _speedup_ssnort):\n",
    "    labels = list(summary_no_ref['temps'])\n",
    "\n",
    "    x = np.arange(len(labels))  # the label locations\n",
    "    fig, ax = plt.subplots(figsize=(FIGWIDTH,5))\n",
    "    \n",
    "    #calculating error\n",
    "    \n",
    "    rects1 = ax.bar(x - WIDTH/2, list(_speedup_da['speed_up_mean']), WIDTH,yerr=_speedup_da['speed_up_std'], label='Proxima - No Ref. Data')\n",
    "    rects2 = ax.bar(x + WIDTH/2, list(_speedup_sa['speed_up_mean']), WIDTH,yerr=_speedup_sa['speed_up_std'] ,label='Fixed - No Ref. Data')\n",
    "\n",
    "    ax.set_ylabel('Speedup', fontsize=BIG)\n",
    "    ax.set_xlabel('Temperature (K)', fontsize=BIG)\n",
    "    ax.set_xticks(x)\n",
    "    ax.set_xticklabels(labels)\n",
    "    plt.xticks(fontsize=MEDIUM)\n",
    "    plt.yticks(fontsize=MEDIUM)\n",
    "    ax.legend(fontsize=BIG)\n",
    "    plt.tight_layout()\n",
    "\n",
    "    \"\"\"if RI:\n",
    "        plt.savefig('Figures/speedup_best.pdf')\n",
    "    else:\n",
    "        plt.savefig('Figures/nort_speedup_bar.pdf')\"\"\"\n",
    "    plt.savefig('Figures/speedup_noref.pdf')\n",
    "    plt.show()"
   ]
  },
  {
   "cell_type": "code",
   "execution_count": 133,
   "metadata": {},
   "outputs": [
    {
     "data": {
      "image/png": "[encoded data removed]",
      "text/plain": [
       "<Figure size 864x360 with 1 Axes>"
      ]
     },
     "metadata": {
      "needs_background": "light"
     },
     "output_type": "display_data"
    }
   ],
   "source": [
    "graph_speedup(False, summary_no_ref,summary_noref_fixed ,None, None)"
   ]
  },
  {
   "cell_type": "code",
   "execution_count": 134,
   "metadata": {},
   "outputs": [
    {
     "name": "stdout",
     "output_type": "stream",
     "text": [
      "harmonic mean speedup 1.6470570310896486\n",
      "(3.5403000000000007, 3.3706000000000005, 2.1548, 2.4599, 1.6667999999999998, 1.5373999999999999, 1.2877999999999998, 1.3811, 1.1166, 1.0255)\n",
      "(2.5544000000000002, 2.2991, 2.3131, 2.518, 2.8199, 1.8544000000000005, 2.3517, 2.2913, 2.5725000000000002, 2.0428)\n"
     ]
    },
    {
     "data": {
      "text/plain": [
       "(2.5544000000000002,\n",
       " 2.2991,\n",
       " 2.3131,\n",
       " 2.518,\n",
       " 2.8199,\n",
       " 1.8544000000000005,\n",
       " 2.3517,\n",
       " 2.2913,\n",
       " 2.5725000000000002,\n",
       " 2.0428)"
      ]
     },
     "execution_count": 134,
     "metadata": {},
     "output_type": "execute_result"
    }
   ],
   "source": [
    "import statistics\n",
    "print(\"harmonic mean speedup\", statistics.harmonic_mean(summary_no_ref['speed_up_mean']))\n",
    "print(summary_no_ref['speed_up_mean'])\n",
    "print(summary_noref_fixed['speed_up_mean'])\n",
    "summary_noref_fixed['speed_up_mean']"
   ]
  },
  {
   "cell_type": "markdown",
   "metadata": {},
   "source": [
    "## MAE of results"
   ]
  },
  {
   "cell_type": "code",
   "execution_count": 211,
   "metadata": {},
   "outputs": [],
   "source": [
    "def mae_results(summary1,summary2):\n",
    "    RI= True #set true or false depending on retrain interval usage\n",
    "    SS = False #Comparing with simple surrogate\n",
    "\n",
    "    x = np.arange(len(labels))  # the label locations\n",
    "    fig, ax = plt.subplots(figsize=(FIGWIDTH,5))\n",
    "\n",
    "    rects1 = ax.bar(x - WIDTH/2, list(summary1['mae_mean']), WIDTH,yerr=summary1['mae_std'], label=r'Proxima - no Ref. Data')\n",
    "    rects2 = ax.bar(x + WIDTH/2, list(summary2['mae_mean']), WIDTH, yerr=summary2['mae_std'],label='Fixed - no Ref. Data')\n",
    "    \n",
    "    # Add some text for labels, title and custom x-axis tick labels, etc.\n",
    "    ax.set_ylabel('Energy MAE (eV)', fontsize=BIG)\n",
    "    ax.set_xlabel(\"Temperature (K)\", fontsize=BIG)\n",
    "    ax.set_xticks(x)\n",
    "    ax.set_xticklabels(labels)\n",
    "    ax.yaxis.get_offset_text().set_fontsize(MEDIUM)\n",
    "    ax.ticklabel_format(axis='y', style='scientific', scilimits=(0,0), useMathText=True)\n",
    "    plt.xticks(fontsize=MEDIUM)\n",
    "    plt.yticks(fontsize=MEDIUM)\n",
    "    ax.legend(fontsize=BIG)\n",
    "    plt.tight_layout()\n",
    "    ##plt.savefig('Figures/MAE_noref.pdf')"
   ]
  },
  {
   "cell_type": "code",
   "execution_count": 212,
   "metadata": {},
   "outputs": [
    {
     "data": {
      "text/plain": [
       "(0.0004253,\n",
       " 0.0009149000000000001,\n",
       " 0.0007543000000000001,\n",
       " 0.0012312,\n",
       " 0.0014977999999999999,\n",
       " 0.0011285,\n",
       " 0.0017274,\n",
       " 0.0017179,\n",
       " 0.0021551,\n",
       " 0.0022607)"
      ]
     },
     "execution_count": 212,
     "metadata": {},
     "output_type": "execute_result"
    }
   ],
   "source": [
    "summary_noref_fixed['mae_mean']\n"
   ]
  },
  {
   "cell_type": "code",
   "execution_count": 213,
   "metadata": {},
   "outputs": [
    {
     "data": {
      "text/plain": [
       "-0.13035"
      ]
     },
     "execution_count": 213,
     "metadata": {},
     "output_type": "execute_result"
    }
   ],
   "source": [
    "#(0.0022607 - 0.002)\n",
    "(0.002-0.0022607 )/(0.002)"
   ]
  },
  {
   "cell_type": "code",
   "execution_count": 225,
   "metadata": {},
   "outputs": [
    {
     "data": {
      "text/plain": [
       "(0.0005786999999999999,\n",
       " 0.0008075000000000001,\n",
       " 0.0006734,\n",
       " 0.0009908999999999999,\n",
       " 0.0008378,\n",
       " 0.0010395,\n",
       " 0.0009869000000000002,\n",
       " 0.0010934,\n",
       " 0.0012927,\n",
       " 0.0014411999999999997)"
      ]
     },
     "execution_count": 225,
     "metadata": {},
     "output_type": "execute_result"
    }
   ],
   "source": [
    "summary_no_ref['mae_mean']"
   ]
  },
  {
   "cell_type": "code",
   "execution_count": 224,
   "metadata": {},
   "outputs": [
    {
     "data": {
      "text/plain": [
       "0.0014411999999999997"
      ]
     },
     "execution_count": 224,
     "metadata": {},
     "output_type": "execute_result"
    }
   ],
   "source": [
    "max(summary_no_ref['mae_mean'])"
   ]
  },
  {
   "cell_type": "code",
   "execution_count": 214,
   "metadata": {},
   "outputs": [
    {
     "data": {
      "text/plain": [
       "0.0009742"
      ]
     },
     "execution_count": 214,
     "metadata": {},
     "output_type": "execute_result"
    }
   ],
   "source": [
    "np.mean(summary_no_ref['mae_mean'])"
   ]
  },
  {
   "cell_type": "code",
   "execution_count": 215,
   "metadata": {},
   "outputs": [
    {
     "data": {
      "image/png": "[encoded data removed]",
      "text/plain": [
       "<Figure size 864x360 with 1 Axes>"
      ]
     },
     "metadata": {
      "needs_background": "light"
     },
     "output_type": "display_data"
    }
   ],
   "source": [
    "mae_results(summary_no_ref,summary_noref_fixed)"
   ]
  },
  {
   "cell_type": "code",
   "execution_count": 216,
   "metadata": {},
   "outputs": [],
   "source": [
    "def ROG_mae_results(summary1,summary2):\n",
    "    RI= True #set true or false depending on retrain interval usage\n",
    "    SS = False #Comparing with simple surrogate\n",
    "\n",
    "    x = np.arange(len(labels))  # the label locations\n",
    "    fig, ax = plt.subplots(figsize=(FIGWIDTH,5))\n",
    "\n",
    "    rects1 = ax.bar(x - WIDTH/2, list(summary1['mae_mean']), WIDTH,label=r'Proxima - no Ref. Data')\n",
    "    rects2 = ax.bar(x + WIDTH/2, list(summary2['mae_mean']), WIDTH,label='Fixed - no Ref. Data')\n",
    "    \n",
    "    # Add some text for labels, title and custom x-axis tick labels, etc.\n",
    "    ax.set_ylabel('Mean absolute error', fontsize=BIG)\n",
    "    ax.set_xlabel(\"Temperature (K)\", fontsize=BIG)\n",
    "    ax.set_xticks(x)\n",
    "    ax.set_xticklabels(labels)\n",
    "    ax.yaxis.get_offset_text().set_fontsize(MEDIUM)\n",
    "    ax.ticklabel_format(axis='y', style='scientific', scilimits=(0,0), useMathText=True)\n",
    "    plt.xticks(fontsize=MEDIUM)\n",
    "    plt.yticks(fontsize=MEDIUM)\n",
    "    ax.legend(fontsize=BIG)\n",
    "    plt.tight_layout()\n",
    "    #plt.savefig('Figures/3prox_MAEbar.pdf')"
   ]
  },
  {
   "cell_type": "code",
   "execution_count": 217,
   "metadata": {},
   "outputs": [],
   "source": [
    "temp_rg = rog_hf.keys()"
   ]
  },
  {
   "cell_type": "code",
   "execution_count": 218,
   "metadata": {},
   "outputs": [
    {
     "data": {
      "text/html": [
       "<div>\n",
       "<style scoped>\n",
       "    .dataframe tbody tr th:only-of-type {\n",
       "        vertical-align: middle;\n",
       "    }\n",
       "\n",
       "    .dataframe tbody tr th {\n",
       "        vertical-align: top;\n",
       "    }\n",
       "\n",
       "    .dataframe thead th {\n",
       "        text-align: right;\n",
       "    }\n",
       "</style>\n",
       "<table border=\"1\" class=\"dataframe\">\n",
       "  <thead>\n",
       "    <tr style=\"text-align: right;\">\n",
       "      <th></th>\n",
       "      <th>Temperature</th>\n",
       "    </tr>\n",
       "  </thead>\n",
       "  <tbody>\n",
       "    <tr>\n",
       "      <th>0</th>\n",
       "      <td>400</td>\n",
       "    </tr>\n",
       "    <tr>\n",
       "      <th>1</th>\n",
       "      <td>300</td>\n",
       "    </tr>\n",
       "    <tr>\n",
       "      <th>2</th>\n",
       "      <td>500</td>\n",
       "    </tr>\n",
       "    <tr>\n",
       "      <th>3</th>\n",
       "      <td>100</td>\n",
       "    </tr>\n",
       "    <tr>\n",
       "      <th>4</th>\n",
       "      <td>200</td>\n",
       "    </tr>\n",
       "    <tr>\n",
       "      <th>5</th>\n",
       "      <td>900</td>\n",
       "    </tr>\n",
       "    <tr>\n",
       "      <th>6</th>\n",
       "      <td>600</td>\n",
       "    </tr>\n",
       "    <tr>\n",
       "      <th>7</th>\n",
       "      <td>800</td>\n",
       "    </tr>\n",
       "    <tr>\n",
       "      <th>8</th>\n",
       "      <td>700</td>\n",
       "    </tr>\n",
       "    <tr>\n",
       "      <th>9</th>\n",
       "      <td>1000</td>\n",
       "    </tr>\n",
       "  </tbody>\n",
       "</table>\n",
       "</div>"
      ],
      "text/plain": [
       "  Temperature\n",
       "0         400\n",
       "1         300\n",
       "2         500\n",
       "3         100\n",
       "4         200\n",
       "5         900\n",
       "6         600\n",
       "7         800\n",
       "8         700\n",
       "9        1000"
      ]
     },
     "execution_count": 218,
     "metadata": {},
     "output_type": "execute_result"
    }
   ],
   "source": [
    "pd.DataFrame({'Temperature': [k for k in temp_rg]})\n",
    "# k for k in rog_hf.keys() if k != \"list\""
   ]
  },
  {
   "cell_type": "code",
   "execution_count": 219,
   "metadata": {},
   "outputs": [],
   "source": [
    "#rog_summary = pd.DataFrame(k for k in rog_hf.keys() if k != \"list\")\n",
    "rog_summary = pd.DataFrame({'Temperature': [k for k in rog_hf.keys()]})\n",
    "for name, d in [('Dynamic',rog_dynLns), ('Target',rog_hf), ('Fixed',rog_SS)]:\n",
    "    col_m = []; col_s = []\n",
    "    \n",
    "    for T in rog_summary['Temperature']:\n",
    "        col_m.append(np.mean(d[T]))\n",
    "        col_s.append(np.std(d[T])/np.sqrt(len(d[T])))\n",
    "    #import pdb; pdb.set_trace()\n",
    "    rog_summary[f\"{name}_mean\"] = col_m\n",
    "    rog_summary[f\"{name}_stderr\"] = col_s"
   ]
  },
  {
   "cell_type": "code",
   "execution_count": 220,
   "metadata": {},
   "outputs": [],
   "source": [
    "rog_summary['T'] = rog_summary['Temperature'].astype('int')\n",
    "rog_summary = rog_summary.sort_values('T')"
   ]
  },
  {
   "cell_type": "code",
   "execution_count": 221,
   "metadata": {},
   "outputs": [
    {
     "data": {
      "image/png": "[encoded data removed]",
      "text/plain": [
       "<Figure size 864x504 with 1 Axes>"
      ]
     },
     "metadata": {
      "needs_background": "light"
     },
     "output_type": "display_data"
    }
   ],
   "source": [
    "fig, ax = plt.subplots(figsize=(FIGWIDTH,7))\n",
    "\n",
    "plt.xlabel('Execution time',fontsize=BIG)\n",
    "plt.ylabel('Mean absolute error', fontsize=BIG)\n",
    "plt.xticks(fontsize=MEDIUM)\n",
    "plt.yticks(fontsize=MEDIUM)\n",
    "ax.yaxis.get_offset_text().set_fontsize(MEDIUM)\n",
    "\n",
    "ax.errorbar(rog_summary['T'],rog_summary['Dynamic_mean'],yerr=rog_summary['Dynamic_stderr'],label='Proxima', capsize=12.0, fmt=\"s-\")\n",
    "ax.errorbar(rog_summary['T'],rog_summary['Target_mean'],yerr=rog_summary['Target_stderr'],label='Target', capsize=8.0, fmt=\"^-\")\n",
    "ax.errorbar(rog_summary['T'],rog_summary['Fixed_mean'],yerr=rog_summary['Fixed_stderr'], label='Fixed',capsize=8.0, fmt=\"*-\")\n",
    "\n",
    "\"\"\"ax.errorbar(rog_summary['T'],rog_summary['Dynamic_mean'],label='Dynamic', capsize=12.0, fmt=\"s-\")\n",
    "ax.errorbar(rog_summary['T'],rog_summary['Target_mean'],label='Target', capsize=8.0, fmt=\"^-\")\n",
    "ax.errorbar(rog_summary['T'],rog_summary['Fixed_mean'], label='Fixed',capsize=8.0, fmt=\"*-\")\"\"\"\n",
    "#ax.errorbar(temps,mean_d,yerr=[d_mins,d_maxes],label='Dynamic', capsize=8.0, fmt=\"o-\")\n",
    "\n",
    "plt.legend()\n",
    "plt.xlabel('Temperature (K)')\n",
    "plt.ylabel('MEAN ROG($\\AA$)')\n",
    "#plt.savefig('~/Desktop/mean_ROG.pdf')\n",
    "plt.savefig('Figures/mean_ROG.pdf')"
   ]
  },
  {
   "cell_type": "code",
   "execution_count": 222,
   "metadata": {},
   "outputs": [
    {
     "data": {
      "text/plain": [
       "-0.007276700355094236"
      ]
     },
     "execution_count": 222,
     "metadata": {},
     "output_type": "execute_result"
    }
   ],
   "source": [
    "(0.274575-0.276573)/0.274575"
   ]
  },
  {
   "cell_type": "code",
   "execution_count": 194,
   "metadata": {},
   "outputs": [
    {
     "data": {
      "text/plain": [
       "3    0.272995\n",
       "4    0.273397\n",
       "1    0.273963\n",
       "0    0.274673\n",
       "2    0.274581\n",
       "6    0.274655\n",
       "8    0.275619\n",
       "7    0.276124\n",
       "5    0.276573\n",
       "9    0.275689\n",
       "Name: Fixed_mean, dtype: float64"
      ]
     },
     "execution_count": 194,
     "metadata": {},
     "output_type": "execute_result"
    }
   ],
   "source": [
    "rog_summary['Fixed_mean']"
   ]
  },
  {
   "cell_type": "code",
   "execution_count": 195,
   "metadata": {},
   "outputs": [
    {
     "data": {
      "text/plain": [
       "3    0.272823\n",
       "4    0.273278\n",
       "1    0.273823\n",
       "0    0.274350\n",
       "2    0.274177\n",
       "6    0.274386\n",
       "8    0.274414\n",
       "7    0.274513\n",
       "5    0.274785\n",
       "9    0.274677\n",
       "Name: Dynamic_mean, dtype: float64"
      ]
     },
     "execution_count": 195,
     "metadata": {},
     "output_type": "execute_result"
    }
   ],
   "source": [
    "rog_summary['Dynamic_mean']"
   ]
  },
  {
   "cell_type": "code",
   "execution_count": 196,
   "metadata": {},
   "outputs": [
    {
     "data": {
      "text/plain": [
       "3    0.273027\n",
       "4    0.273360\n",
       "1    0.273575\n",
       "0    0.273866\n",
       "2    0.274032\n",
       "6    0.274221\n",
       "8    0.274405\n",
       "7    0.274450\n",
       "5    0.274575\n",
       "9    0.274608\n",
       "Name: Target_mean, dtype: float64"
      ]
     },
     "execution_count": 196,
     "metadata": {},
     "output_type": "execute_result"
    }
   ],
   "source": [
    "rog_summary['Target_mean']"
   ]
  },
  {
   "cell_type": "markdown",
   "metadata": {},
   "source": [
    "## GETTING MAE"
   ]
  },
  {
   "cell_type": "code",
   "execution_count": 197,
   "metadata": {},
   "outputs": [],
   "source": [
    "#rog_summary = pd.DataFrame(k for k in rog_hf.keys() if k != \"list\")\n",
    "rog_summary = pd.DataFrame({'Temperature': [k for k in rog_hf.keys()]})\n",
    "\n",
    "for name, d in [('Target',rog_hf)]:\n",
    "    col_m = []; col_s = []\n",
    "    \n",
    "    for T in rog_summary['Temperature']:\n",
    "        col_m.append(np.mean(d[T]))\n",
    "        col_s.append(np.std(d[T])/np.sqrt(len(d[T])))\n",
    "    #import pdb; pdb.set_trace()\n",
    "    rog_summary[f\"{name}_mean\"] = col_m\n",
    "    #rog_summary[f\"{name}_stderr\"] = col_s\n",
    "\n",
    "rog_summary[\"T\"] = rog_summary['Temperature']\n",
    "rog_summary = rog_summary.set_index(\"T\") \n",
    "for name, d in [('Dynamic',rog_dynLns), ('Fixed',rog_SS)]:\n",
    "    col_m = []; col_s = []\n",
    "    for T in rog_summary['Temperature']:\n",
    "        \n",
    "        #import pdb; pdb.set_trace()\n",
    "        size = len(d[T])\n",
    "        dT = np.array(d[T])\n",
    "        ref = np.array([rog_summary[\"Target_mean\"].loc[T]] * size)\n",
    "        \n",
    "        ae = abs(dT - ref) / ref\n",
    "        \n",
    "        col_m.append(np.mean(ae))\n",
    "        col_s.append(np.std(ae)/np.sqrt(size))\n",
    "    #import pdb; pdb.set_trace()\n",
    "    rog_summary[f\"{name}_mae\"] = col_m\n",
    "    rog_summary[f\"{name}_stderr\"] = col_s"
   ]
  },
  {
   "cell_type": "code",
   "execution_count": 198,
   "metadata": {},
   "outputs": [],
   "source": [
    "rog_summary.reset_index(drop=False,inplace=True)\n",
    "rog_summary['T'] = rog_summary['Temperature'].astype('int')\n",
    "rog_summary = rog_summary.sort_values('T')"
   ]
  },
  {
   "cell_type": "code",
   "execution_count": null,
   "metadata": {},
   "outputs": [],
   "source": []
  },
  {
   "cell_type": "code",
   "execution_count": 199,
   "metadata": {},
   "outputs": [
    {
     "data": {
      "image/png": "[encoded data removed]",
      "text/plain": [
       "<Figure size 864x504 with 1 Axes>"
      ]
     },
     "metadata": {
      "needs_background": "light"
     },
     "output_type": "display_data"
    }
   ],
   "source": [
    "fig, ax = plt.subplots(figsize=(FIGWIDTH,7))\n",
    "\n",
    "plt.xlabel('Execution time',fontsize=BIG)\n",
    "plt.ylabel('Mean absolute error', fontsize=BIG)\n",
    "plt.xticks(fontsize=MEDIUM)\n",
    "plt.yticks(fontsize=MEDIUM)\n",
    "ax.yaxis.get_offset_text().set_fontsize(MEDIUM)\n",
    "ax.errorbar(rog_summary['T'],rog_summary['Dynamic_mae'],yerr=rog_summary['Dynamic_stderr'],label='Proxima', capsize=12.0, fmt=\"s-\")\n",
    "#ax.errorbar(rog_summary['T'],rog_summary['Target_mae'],yerr=rog_summary['Target_stderr'],label='Target', capsize=8.0, fmt=\"^-\")\n",
    "ax.errorbar(rog_summary['T'],rog_summary['Fixed_mae'],yerr=rog_summary['Fixed_stderr'], label='Fixed',capsize=8.0, fmt=\"*-\")\n",
    "#ax.errorbar(temps,mean_d,yerr=[d_mins,d_maxes],label='Dynamic', capsize=8.0, fmt=\"o-\")\n",
    "\n",
    "plt.legend()\n",
    "plt.xlabel('Temperature (K)')\n",
    "plt.ylabel('ROG MAE ($\\AA$)')\n",
    "plt.savefig('Figures/MAE_ROG.pdf')"
   ]
  },
  {
   "cell_type": "code",
   "execution_count": 200,
   "metadata": {},
   "outputs": [
    {
     "data": {
      "text/plain": [
       "3    0.001323\n",
       "4    0.001189\n",
       "1    0.001536\n",
       "0    0.002329\n",
       "2    0.000959\n",
       "6    0.000965\n",
       "8    0.000699\n",
       "7    0.001025\n",
       "5    0.001724\n",
       "9    0.000895\n",
       "Name: Dynamic_mae, dtype: float64"
      ]
     },
     "execution_count": 200,
     "metadata": {},
     "output_type": "execute_result"
    }
   ],
   "source": [
    "rog_summary['Dynamic_mae']"
   ]
  },
  {
   "cell_type": "code",
   "execution_count": 206,
   "metadata": {},
   "outputs": [
    {
     "data": {
      "text/plain": [
       "0.001128781903014174"
      ]
     },
     "execution_count": 206,
     "metadata": {},
     "output_type": "execute_result"
    }
   ],
   "source": [
    "statistics.harmonic_mean(rog_summary['Dynamic_mae'])"
   ]
  },
  {
   "cell_type": "code",
   "execution_count": 209,
   "metadata": {},
   "outputs": [
    {
     "data": {
      "text/plain": [
       "0.0020827035544326348"
      ]
     },
     "execution_count": 209,
     "metadata": {},
     "output_type": "execute_result"
    }
   ],
   "source": [
    "statistics.harmonic_mean(rog_summary['Fixed_mae'])"
   ]
  },
  {
   "cell_type": "code",
   "execution_count": 203,
   "metadata": {},
   "outputs": [
    {
     "data": {
      "text/plain": [
       "3    0.000835\n",
       "4    0.000646\n",
       "1    0.002480\n",
       "0    0.003379\n",
       "2    0.003570\n",
       "6    0.002894\n",
       "8    0.004883\n",
       "7    0.006586\n",
       "5    0.007484\n",
       "9    0.004165\n",
       "Name: Fixed_mae, dtype: float64"
      ]
     },
     "execution_count": 203,
     "metadata": {},
     "output_type": "execute_result"
    }
   ],
   "source": [
    "rog_summary['Fixed_mae']"
   ]
  },
  {
   "cell_type": "code",
   "execution_count": 204,
   "metadata": {},
   "outputs": [
    {
     "data": {
      "text/plain": [
       "4.341067285382831"
      ]
     },
     "execution_count": 204,
     "metadata": {},
     "output_type": "execute_result"
    }
   ],
   "source": [
    "0.007484/0.001724"
   ]
  },
  {
   "cell_type": "code",
   "execution_count": null,
   "metadata": {},
   "outputs": [],
   "source": [
    "## MAE - the mean of the absolute error of each trial compared to the mean of the target \n",
    "## MEAN ROG - comparing the average of ROG all trials\n",
    "## MEDIAN ROG - looking at median of results to reduce effects of outliers"
   ]
  },
  {
   "cell_type": "code",
   "execution_count": null,
   "metadata": {},
   "outputs": [],
   "source": [
    "## Showing that Dynamic is capturing dynamic ROG and FIXED is not. "
   ]
  },
  {
   "cell_type": "markdown",
   "metadata": {},
   "source": [
    "## Testing thresholds"
   ]
  },
  {
   "cell_type": "code",
   "execution_count": 1,
   "metadata": {},
   "outputs": [],
   "source": [
    "thresholds = [0.0005,0.001,0.002,0.004,0.006]\n",
    "mae_vals = [0.000066,0.000576,0.001550,0.002577,0.002267]\n",
    "times = [6171,666.8018,279.8098,116.0945,95.8729]\n",
    "hf_time = 530 #average time\n",
    "\n",
    "\"\"\"norm = np.linalg.norm(mae_vals)\n",
    "norm_array = mae_vals/norm\n",
    "norm_array\"\"\"\n",
    "nom_error = [m/t for m,t in zip(mae_vals,thresholds)]"
   ]
  },
  {
   "cell_type": "code",
   "execution_count": 6,
   "metadata": {},
   "outputs": [
    {
     "data": {
      "text/plain": [
       "[0.08588559390698428,\n",
       " 0.7948388861577759,\n",
       " 1.8941438076865071,\n",
       " 4.565246415635539,\n",
       " 5.528152376740455]"
      ]
     },
     "execution_count": 6,
     "metadata": {},
     "output_type": "execute_result"
    }
   ],
   "source": [
    "speedup = [hf_time/x for x in times]\n",
    "speedup\n"
   ]
  },
  {
   "cell_type": "markdown",
   "metadata": {},
   "source": [
    "## Speedup"
   ]
  },
  {
   "cell_type": "code",
   "execution_count": null,
   "metadata": {},
   "outputs": [],
   "source": [
    "thres = ['0.0005', '0.001', '0.002', '0.004', '0.006']\n",
    "plt.scatter(thresholds,speedup)\n",
    "plt.ylabel('Speedup')\n",
    "plt.xlabel('User Defined Error Threshold')\n",
    "plt.xlim(0.0004,0.0062)\n",
    "plt.xticks(thresholds,thres)\n",
    "plt.hlines(1,.0004,0.0062,colors='r',linestyles='solid')\n",
    "plt.show()"
   ]
  },
  {
   "cell_type": "markdown",
   "metadata": {},
   "source": [
    "## Normalized Error"
   ]
  },
  {
   "cell_type": "code",
   "execution_count": 271,
   "metadata": {},
   "outputs": [
    {
     "data": {
      "image/png": "[encoded data removed]",
      "text/plain": [
       "<Figure size 432x288 with 1 Axes>"
      ]
     },
     "metadata": {
      "needs_background": "light"
     },
     "output_type": "display_data"
    }
   ],
   "source": [
    "thres = ['0.0005', '0.001', '0.002', '0.004', '0.006']\n",
    "plt.scatter(thresholds,nom_error)\n",
    "plt.ylabel('Normalized Error')\n",
    "plt.xlabel('User Defined Error Threshold')\n",
    "plt.xlim(0.0004,0.0062)\n",
    "plt.xticks(thresholds,thres)\n",
    "plt.hlines(1,.0004,0.0062,colors='r',linestyles='solid')\n",
    "plt.show()"
   ]
  },
  {
   "cell_type": "code",
   "execution_count": null,
   "metadata": {},
   "outputs": [],
   "source": []
  }
 ],
 "metadata": {
  "kernelspec": {
   "display_name": "Python 3",
   "language": "python",
   "name": "python3"
  },
  "language_info": {
   "codemirror_mode": {
    "name": "ipython",
    "version": 3
   },
   "file_extension": ".py",
   "mimetype": "text/x-python",
   "name": "python",
   "nbconvert_exporter": "python",
   "pygments_lexer": "ipython3",
   "version": "3.6.8"
  }
 },
 "nbformat": 4,
 "nbformat_minor": 4
}
