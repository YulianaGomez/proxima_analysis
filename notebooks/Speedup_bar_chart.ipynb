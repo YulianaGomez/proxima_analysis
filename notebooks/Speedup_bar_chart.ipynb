{
 "cells": [
  {
   "cell_type": "code",
   "execution_count": 39,
   "metadata": {},
   "outputs": [
    {
     "data": {
      "text/html": [
       "<style>.container { width:100% !important; }</style>"
      ],
      "text/plain": [
       "<IPython.core.display.HTML object>"
      ]
     },
     "metadata": {},
     "output_type": "display_data"
    }
   ],
   "source": [
    "import matplotlib\n",
    "import matplotlib.pyplot as plt\n",
    "import numpy as np\n",
    "import glob\n",
    "\n",
    "import proxima_analysis as pa\n",
    "\n",
    "from IPython.core.display import display, HTML\n",
    "display(HTML(\"<style>.container { width:100% !important; }</style>\"))"
   ]
  },
  {
   "cell_type": "code",
   "execution_count": 40,
   "metadata": {},
   "outputs": [],
   "source": [
    "experiments = [\n",
    "    \"NORT-Proxima_dynamicalpha\", #Proxima - dynamic alpha with no retrain interval\n",
    "    \"NORT-Proxima_static-alpha\", #Proxima - precalcualted alpha, no retrain interval\n",
    "    \"surrogate_only\", ## Simple surrogate implementation\n",
    "    \"SS-UQ02-NORT_staticalpha\", # Simple surrogate, uq:0.2, no retrain interval\n",
    "    \"DA_RT50\", ## Proxima - dynamica alpha, testing single RT interval of 50 \n",
    "    \"DAallUQ_TEMP1000\", ## Proxima - testing different retrain intervals and UQ's\n",
    "    \"SST1000_bestparameters\", ## Simple surrogate - with different Retrain intervals tested\n",
    "]\n",
    "root_path = \"/home/yzamora/proxima/examples/tests_runs\""
   ]
  },
  {
   "cell_type": "code",
   "execution_count": 41,
   "metadata": {},
   "outputs": [],
   "source": [
    "results = {n: None for n in experiments}\n",
    "for name in results:\n",
    "    path_str = \"/\".join([root_path, name, \"*\"])\n",
    "    path = glob.glob(path_str)\n",
    "    \n",
    "    uq_thresholds, int_list, total_time, uq_time = pa.process_times(path)\n",
    "    time_df = pa.time_to_df(uq_time)\n",
    "    mae_values = pa.process_mae(path)\n",
    "    mae_df = pa.mae_to_df(mae_values)\n",
    "    results[name] = time_df.merge(mae_df, on=[\"uq\", \"interval\",\"temperature\"], how=\"inner\")"
   ]
  },
  {
   "cell_type": "code",
   "execution_count": 42,
   "metadata": {},
   "outputs": [
    {
     "data": {
      "text/plain": [
       "[100, 1000, 200, 300, 400, 500, 600, 700, 800, 900]"
      ]
     },
     "execution_count": 42,
     "metadata": {},
     "output_type": "execute_result"
    }
   ],
   "source": [
    "list(results[\"NORT-Proxima_dynamicalpha\"]['temperature'])"
   ]
  },
  {
   "cell_type": "code",
   "execution_count": 70,
   "metadata": {},
   "outputs": [],
   "source": [
    "_t_da = results[\"NORT-Proxima_dynamicalpha\"]['time']\n",
    "_temp_da = results[\"NORT-Proxima_dynamicalpha\"]['temperature']\n",
    "_temp_da, _t_da = zip(*sorted(zip(_temp, _t)))\n",
    "\n",
    "_t_sa = results[\"NORT-Proxima_static-alpha\"]['time']\n",
    "_temp_sa = results[\"NORT-Proxima_static-alpha\"]['temperature']\n",
    "_temp_sa, _t_sa = zip(*sorted(zip(_temp, _t)))"
   ]
  },
  {
   "cell_type": "code",
   "execution_count": 71,
   "metadata": {},
   "outputs": [
    {
     "data": {
      "image/png": "[encoded data removed]",
      "text/plain": [
       "<Figure size 432x288 with 1 Axes>"
      ]
     },
     "metadata": {
      "needs_background": "light"
     },
     "output_type": "display_data"
    }
   ],
   "source": [
    "labels = list(_temp_sa)\n",
    "\n",
    "x = np.arange(len(labels))  # the label locations\n",
    "width = 0.35  # the width of the bars\n",
    "fig, ax = plt.subplots()\n",
    "\n",
    "rects1 = ax.bar(x - width/2, list(_t_da), width, label='Dynamica_alpha')\n",
    "rects2 = ax.bar(x + width/2, list(_t_sa), width, label='Static_alpha')\n",
    "\n",
    "# Add some text for labels, title and custom x-axis tick labels, etc.\n",
    "ax.set_ylabel('Time')\n",
    "ax.set_title('Surrogate Time')\n",
    "ax.set_xticks(x)\n",
    "ax.set_xticklabels(labels)\n",
    "ax.legend()\n",
    "\n",
    "\n",
    "\n",
    "plt.show()"
   ]
  },
  {
   "cell_type": "code",
   "execution_count": 94,
   "metadata": {},
   "outputs": [],
   "source": [
    "def _plot_cases(cases):\n",
    "    fig, ax = plt.subplots(figsize=(12,5))\n",
    "    num_case = len(cases)\n",
    "    total_width = 0.7\n",
    "    width = total_width / num_case\n",
    "    print(num_case)\n",
    "    for i in range(num_case):\n",
    "        case = cases[i]\n",
    "        x_offset = (i - num_case / 2) * width + width / 2\n",
    "        labels = list(case.get('df'))\n",
    "        x = np.arange(len(labels))  # the label locations\n",
    "        y = case.get('y')\n",
    "        label = case.get('label')\n",
    "        rects1 = ax.bar(x + x_offset, list(y), width, label=label)\n",
    "        \n",
    "    \"\"\"for case in cases:\n",
    "        labels = list(case.get('df'))\n",
    "        x = np.arange(len(labels))  # the label locations\n",
    "        y = case.get('y')\n",
    "        label = case.get('label')\n",
    "        width = 0.35  # the width of the bars \n",
    "        num_case = len(cases)\n",
    "        print(num_case)\n",
    "        rects1 = ax.bar(x - width/num_case, list(y), width, label=label)\n",
    "        #rects2 = ax.bar(x + width/2, list(results[\"NORT-Proxima_static-alpha\"]['time']), width, label='Static_alpha')\n",
    "    \"\"\"\n",
    "\n",
    "    # Add some text for labels, title and custom x-axis tick labels, etc.\n",
    "    ax.set_ylabel('Time')\n",
    "    ax.set_title('Surrogate Time')\n",
    "    ax.set_xticks(x)\n",
    "    ax.set_xticklabels(labels)\n",
    "    ax.legend()\n",
    "        "
   ]
  },
  {
   "cell_type": "code",
   "execution_count": 95,
   "metadata": {},
   "outputs": [
    {
     "name": "stdout",
     "output_type": "stream",
     "text": [
      "2\n"
     ]
    },
    {
     "data": {
      "image/png": "[encoded data removed]",
      "text/plain": [
       "<Figure size 864x360 with 1 Axes>"
      ]
     },
     "metadata": {
      "needs_background": "light"
     },
     "output_type": "display_data"
    }
   ],
   "source": [
    "cases = (\n",
    "        {\"df\": results[\"NORT-Proxima_dynamicalpha\"]['temperature'],'y': results[\"NORT-Proxima_dynamicalpha\"]['time'],\"label\":'Dynamic_alpha', \"marker\":\"x\"},\n",
    "        {\"df\": results[\"NORT-Proxima_static-alpha\"]['temperature'],'y': results[\"NORT-Proxima_static-alpha\"]['time'],\"label\":'Static_alpha', \"marker\":\"x\"},\n",
    "    )\n",
    "_plot_cases(cases)"
   ]
  },
  {
   "cell_type": "code",
   "execution_count": null,
   "metadata": {},
   "outputs": [],
   "source": []
  }
 ],
 "metadata": {
  "kernelspec": {
   "display_name": "Python 3",
   "language": "python",
   "name": "python3"
  },
  "language_info": {
   "codemirror_mode": {
    "name": "ipython",
    "version": 3
   },
   "file_extension": ".py",
   "mimetype": "text/x-python",
   "name": "python",
   "nbconvert_exporter": "python",
   "pygments_lexer": "ipython3",
   "version": "3.6.9"
  }
 },
 "nbformat": 4,
 "nbformat_minor": 2
}
