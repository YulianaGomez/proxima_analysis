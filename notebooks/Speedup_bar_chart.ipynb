{
 "cells": [
  {
   "cell_type": "code",
   "execution_count": 14,
   "metadata": {},
   "outputs": [
    {
     "data": {
      "text/html": [
       "<style>.container { width:100% !important; }</style>"
      ],
      "text/plain": [
       "<IPython.core.display.HTML object>"
      ]
     },
     "metadata": {},
     "output_type": "display_data"
    }
   ],
   "source": [
    "import matplotlib\n",
    "import matplotlib.pyplot as plt\n",
    "import numpy as np\n",
    "import pandas as pd\n",
    "import glob\n",
    "import os\n",
    "import statistics as stat\n",
    "import proxima_analysis as pa\n",
    "\n",
    "from IPython.core.display import display, HTML\n",
    "display(HTML(\"<style>.container { width:100% !important; }</style>\"))\n",
    "\n",
    "font = {'family' : 'normal',\n",
    "        'weight' : 'normal',\n",
    "        'size'   : 22}\n",
    "\n",
    "plt.rc('font', **font)"
   ]
  },
  {
   "cell_type": "code",
   "execution_count": 15,
   "metadata": {},
   "outputs": [],
   "source": [
    "experiments = [\n",
    "    \"NORT-Proxima_dynamicalpha\", #Proxima - dynamic alpha with no retrain interval\n",
    "    \"NORT-Proxima_static-alpha\", #Proxima - precalcualted alpha, no retrain interval\n",
    "    \"surrogate_only\", ## Simple surrogate implementation\n",
    "    \"SS-UQ02-NORT_staticalpha\", # Simple surrogate, uq:0.2, no retrain interval\n",
    "    \"DA_RT50\", ## Proxima - dynamica alpha, testing single RT interval of 50 \n",
    "    \"DAallUQ_TEMP1000\", ## Proxima - testing different retrain intervals and UQ's\n",
    "    \"SST1000_bestparameters\", ## Simple surrogate - with different Retrain intervals tested\n",
    "    \"SS_RI300\", ## Simple Surrogate with RI 300\n",
    "    \"SS-UQ02_I50\", ## Simple surrogate, uq: 0.2, All temps, RI: 50\n",
    "    \"SS-UQall_I50\", ## Simple surrogate,, all UQ, Temp: 500, RI: 50\n",
    "]\n",
    "root_path = \"../proxima_data\""
   ]
  },
  {
   "cell_type": "markdown",
   "metadata": {},
   "source": [
    "## Loading high fidelity times"
   ]
  },
  {
   "cell_type": "code",
   "execution_count": 16,
   "metadata": {},
   "outputs": [
    {
     "data": {
      "text/plain": [
       "523.2152688019909"
      ]
     },
     "execution_count": 16,
     "metadata": {},
     "output_type": "execute_result"
    }
   ],
   "source": [
    "root_path_hf = \"../proxima_data\"\n",
    "path_str = \"/\".join([root_path_hf,\"runtime_s1_data.csv\"])\n",
    "hf_times = pd.read_csv(path_str)\n",
    "average_rt = hf_times['Runtime[s]'].mean()\n",
    "average_rt\n",
    "#float(hf_times.set_index('Temp[K]').loc[100])"
   ]
  },
  {
   "cell_type": "markdown",
   "metadata": {},
   "source": [
    "## Loading results of all experiments"
   ]
  },
  {
   "cell_type": "code",
   "execution_count": 17,
   "metadata": {},
   "outputs": [],
   "source": [
    "results = {n: None for n in experiments}\n",
    "for name in results:\n",
    "    path_str = \"/\".join([root_path, name, \"*\"])\n",
    "    path = glob.glob(path_str)\n",
    "    uq_thresholds, int_list, total_time, uq_time, speed_up = pa.process_times(path,hf_times)\n",
    "    time_df = pa.time_to_df(uq_time)\n",
    "    speedup_df = pa.speedup_to_df(speed_up)\n",
    "    mae_values = pa.process_mae(path)\n",
    "    mae_df = pa.mae_to_df(mae_values)\n",
    "    #results[name] = time_df.merge(mae_df, on=[\"uq\", \"interval\",\"temperature\"], how=\"inner\")\n",
    "    time_mae = time_df.merge(mae_df, on=[\"uq\", \"interval\",\"temperature\"], how=\"inner\")\n",
    "    results[name]=speedup_df.merge(time_mae, on=[\"uq\", \"interval\",\"temperature\"], how=\"inner\")"
   ]
  },
  {
   "cell_type": "code",
   "execution_count": 18,
   "metadata": {},
   "outputs": [],
   "source": [
    "def graph_values(name):\n",
    "    _t_sa = results[name]['time']\n",
    "    _speedup_sa = results[name]['speed_up']\n",
    "    _temp_sa = results[name]['temperature']\n",
    "    \n",
    "    _temp_sa, _t_sa, _speedup_sa = zip(*sorted(zip(_temp_sa, _t_sa,_speedup_sa)))\n",
    "    hm_sp_sa = stat.harmonic_mean(_speedup_sa)\n",
    "    hm_t_sa = stat.harmonic_mean(_t_sa)\n",
    "    _speedup_sa = _speedup_sa + (hm_sp_sa,)\n",
    "    _t_sa = _t_sa + (hm_t_sa,)\n",
    "    _temp_sa = _temp_sa + ('HM',)\n",
    "    return _speedup_sa,_t_sa, _temp_sa\n",
    "    \n",
    "_speedup_sa,_t_sa,_temp_sa = graph_values(\"NORT-Proxima_static-alpha\")\n",
    "_speedup_da,_t_da,_temp_da = graph_values(\"NORT-Proxima_dynamicalpha\")\n",
    "_speedup_ssnort,_t_ssnort, _temp_ssnort = graph_values(\"SS-UQ02-NORT_staticalpha\")\n",
    "_speedup_ss,_t_ss,_temp_ss = graph_values(\"SS-UQ02_I50\")"
   ]
  },
  {
   "cell_type": "markdown",
   "metadata": {},
   "source": [
    "## Graphing Speed-up Comparison: Dynamic vs Simple Surrogate No Retrain Interval \n",
    "Simple surrogate uses UQ: 0.2"
   ]
  },
  {
   "cell_type": "code",
   "execution_count": 33,
   "metadata": {},
   "outputs": [
    {
     "data": {
      "image/png": "[encoded data removed]",
      "text/plain": [
       "<Figure size 864x360 with 1 Axes>"
      ]
     },
     "metadata": {
      "needs_background": "light"
     },
     "output_type": "display_data"
    }
   ],
   "source": [
    "RI= False #set true or false depending on retrain interval usage\n",
    "labels = list(_temp_ssnort)\n",
    "\n",
    "x = np.arange(len(labels))  # the label locations\n",
    "width = 0.25  # the width of the bars\n",
    "fig, ax = plt.subplots(figsize=(12,5))\n",
    "\n",
    "rects1 = ax.bar(x + width/2, list(_speedup_da), width, label='Dynamica Proxima')\n",
    "rects2 = ax.bar(x - width/2, list(_speedup_sa), width, label='Static Proxima')\n",
    "if RI:\n",
    "    rects3 = ax.bar(x + (width/2)+width, list(_speedup_ss), width, label='Simple Surrogate, RI=50')\n",
    "else:\n",
    "    rects3 = ax.bar(x + (width/2)+width, list(_speedup_ssnort), width, label='Simple Surrogate: No RI')\n",
    "\n",
    "\n",
    "# Add some text for labels, title and custom x-axis tick labels, etc.\n",
    "ax.set_ylabel('Speed-up')\n",
    "#ax.set_title('Surrogate Method Comparison: Speed-up Across Temperatures')\n",
    "ax.set_xticks(x)\n",
    "ax.set_xticklabels(labels)\n",
    "ax.legend()\n",
    "\n",
    "\n",
    "if RI:\n",
    "    plt.savefig('Figures/nort_speedup_bar.png')\n",
    "else:\n",
    "    plt.savefig('Figures/speedup_best.png')\n",
    "\n",
    "plt.show()"
   ]
  },
  {
   "cell_type": "markdown",
   "metadata": {},
   "source": [
    "## Graphing Speed-up Comparison: Dynamic vs Simple Surrogate with 50 RI\n",
    "Simple surrogate uses UQ: 0.2"
   ]
  },
  {
   "cell_type": "code",
   "execution_count": 29,
   "metadata": {},
   "outputs": [
    {
     "data": {
      "image/png": "[encoded data removed]",
      "text/plain": [
       "<Figure size 432x288 with 1 Axes>"
      ]
     },
     "metadata": {
      "needs_background": "light"
     },
     "output_type": "display_data"
    }
   ],
   "source": [
    "labels = list(_temp_ssnort)\n",
    "\n",
    "x = np.arange(len(labels))  # the label locations\n",
    "width = 0.35  # the width of the bars\n",
    "fig, ax = plt.subplots()\n",
    "\n",
    "rects1 = ax.bar(x - width/2, list(_speedup_da), width, label='Dynamica_alpha')\n",
    "rects2 = ax.bar(x + width/2, list(_speedup_ss), width, label='Simple Surrogate, RI:50')\n",
    "\n",
    "# Add some text for labels, title and custom x-axis tick labels, etc.\n",
    "ax.set_ylabel('Speed-up')\n",
    "ax.set_title('Surrogate Time')\n",
    "ax.set_xticks(x)\n",
    "ax.set_xticklabels(labels)\n",
    "ax.legend()\n",
    "\n",
    "\n",
    "\n",
    "plt.show()"
   ]
  },
  {
   "cell_type": "markdown",
   "metadata": {},
   "source": [
    "## Graphing Time Comparison: Dynamic vs Static Proxima"
   ]
  },
  {
   "cell_type": "code",
   "execution_count": 30,
   "metadata": {},
   "outputs": [
    {
     "data": {
      "image/png": "[encoded data removed]",
      "text/plain": [
       "<Figure size 432x288 with 1 Axes>"
      ]
     },
     "metadata": {
      "needs_background": "light"
     },
     "output_type": "display_data"
    }
   ],
   "source": [
    "labels = list(_temp_sa)\n",
    "\n",
    "x = np.arange(len(labels))  # the label locations\n",
    "width = 0.35  # the width of the bars\n",
    "fig, ax = plt.subplots()\n",
    "\n",
    "rects1 = ax.bar(x - width/2, list(_t_da), width, label='Dynamica_alpha')\n",
    "rects2 = ax.bar(x + width/2, list(_t_sa), width, label='Static_alpha')\n",
    "\n",
    "# Add some text for labels, title and custom x-axis tick labels, etc.\n",
    "ax.set_ylabel('Time')\n",
    "ax.set_title('Surrogate Time')\n",
    "ax.set_xticks(x)\n",
    "ax.set_xticklabels(labels)\n",
    "ax.legend()\n",
    "\n",
    "\n",
    "\n",
    "plt.show()"
   ]
  },
  {
   "cell_type": "markdown",
   "metadata": {},
   "source": [
    "## Graphing Speed-up: Dynamic vs Static Proxima"
   ]
  },
  {
   "cell_type": "code",
   "execution_count": 31,
   "metadata": {},
   "outputs": [
    {
     "data": {
      "image/png": "[encoded data removed]",
      "text/plain": [
       "<Figure size 432x288 with 1 Axes>"
      ]
     },
     "metadata": {
      "needs_background": "light"
     },
     "output_type": "display_data"
    }
   ],
   "source": [
    "labels = list(_temp_sa)\n",
    "\n",
    "x = np.arange(len(labels))  # the label locations\n",
    "width = 0.35  # the width of the bars\n",
    "fig, ax = plt.subplots()\n",
    "\n",
    "rects1 = ax.bar(x - width/2, list(_speedup_da), width, label='Dynamica_alpha')\n",
    "rects2 = ax.bar(x + width/2, list(_speedup_sa), width, label='Static_alpha')\n",
    "\n",
    "# Add some text for labels, title and custom x-axis tick labels, etc.\n",
    "ax.set_ylabel('Speed-up')\n",
    "ax.set_title('Surrogate Speed-up')\n",
    "ax.set_xticks(x)\n",
    "ax.set_xticklabels(labels)\n",
    "ax.legend()\n",
    "\n",
    "\n",
    "\n",
    "plt.show()"
   ]
  },
  {
   "cell_type": "markdown",
   "metadata": {},
   "source": [
    "## Function to graph cases - only works with two cases"
   ]
  },
  {
   "cell_type": "code",
   "execution_count": 32,
   "metadata": {},
   "outputs": [],
   "source": [
    "def _plot_cases(cases):\n",
    "    fig, ax = plt.subplots(figsize=(12,5))\n",
    "    num_case = len(cases)\n",
    "    total_width = 0.7\n",
    "    width = total_width / num_case\n",
    "    print(num_case)\n",
    "    for i in range(num_case):\n",
    "        case = cases[i]\n",
    "        x_offset = (i - num_case / 2) * width + width / 2\n",
    "        labels = list(case.get('df'))\n",
    "        x = np.arange(len(labels))  # the label locations\n",
    "        y = case.get('y')\n",
    "        label = case.get('label')\n",
    "        rects1 = ax.bar(x + x_offset, list(y), width, label=label)\n",
    "\n",
    "    # Add some text for labels, title and custom x-axis tick labels, etc.\n",
    "    ax.set_ylabel('Time')\n",
    "    ax.set_title('Surrogate Time')\n",
    "    ax.set_xticks(x)\n",
    "    ax.set_xticklabels(labels)\n",
    "    ax.legend()\n",
    "        "
   ]
  },
  {
   "cell_type": "code",
   "execution_count": 33,
   "metadata": {},
   "outputs": [
    {
     "name": "stdout",
     "output_type": "stream",
     "text": [
      "2\n"
     ]
    },
    {
     "data": {
      "image/png": "[encoded data removed]",
      "text/plain": [
       "<Figure size 864x360 with 1 Axes>"
      ]
     },
     "metadata": {
      "needs_background": "light"
     },
     "output_type": "display_data"
    }
   ],
   "source": [
    "cases = (\n",
    "        {\"df\": results[\"NORT-Proxima_dynamicalpha\"]['temperature'],'y': results[\"NORT-Proxima_dynamicalpha\"]['time'],\"label\":'Dynamic_alpha', \"marker\":\"x\"},\n",
    "        {\"df\": results[\"NORT-Proxima_static-alpha\"]['temperature'],'y': results[\"NORT-Proxima_static-alpha\"]['time'],\"label\":'Static_alpha', \"marker\":\"x\"},\n",
    "        #{\"df\": results[\"SS-UQ02-NORT_staticalpha\"]['temperature'],'y': results[\"surrogate_only\"]['time'],\"label\":'Simple_Surrogate', \"marker\":\"x\"},\n",
    "    )\n",
    "_plot_cases(cases)"
   ]
  },
  {
   "cell_type": "code",
   "execution_count": null,
   "metadata": {},
   "outputs": [],
   "source": []
  }
 ],
 "metadata": {
  "kernelspec": {
   "display_name": "Python 3",
   "language": "python",
   "name": "python3"
  },
  "language_info": {
   "codemirror_mode": {
    "name": "ipython",
    "version": 3
   },
   "file_extension": ".py",
   "mimetype": "text/x-python",
   "name": "python",
   "nbconvert_exporter": "python",
   "pygments_lexer": "ipython3",
   "version": "3.6.8"
  }
 },
 "nbformat": 4,
 "nbformat_minor": 2
}
