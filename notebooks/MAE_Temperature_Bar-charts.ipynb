{
 "cells": [
  {
   "cell_type": "code",
   "execution_count": 6,
   "metadata": {},
   "outputs": [
    {
     "data": {
      "text/html": [
       "<style>.container { width:100% !important; }</style>"
      ],
      "text/plain": [
       "<IPython.core.display.HTML object>"
      ]
     },
     "metadata": {},
     "output_type": "display_data"
    }
   ],
   "source": [
    "import matplotlib\n",
    "import matplotlib.pyplot as plt\n",
    "import numpy as np\n",
    "import pandas as pd\n",
    "import glob\n",
    "import os\n",
    "import statistics as stat\n",
    "import proxima_analysis as pa\n",
    "\n",
    "from IPython.core.display import display, HTML\n",
    "display(HTML(\"<style>.container { width:100% !important; }</style>\"))\n",
    "\n",
    "font = {'family' : 'normal',\n",
    "        'weight' : 'normal',\n",
    "        'size'   : 22}\n",
    "\n",
    "plt.rc('font', **font)"
   ]
  },
  {
   "cell_type": "code",
   "execution_count": 7,
   "metadata": {},
   "outputs": [],
   "source": [
    "experiments = [\n",
    "    \"NORT-Proxima_dynamicalpha\", #Proxima - dynamic alpha with no retrain interval\n",
    "    \"NORT-Proxima_static-alpha\", #Proxima - precalcualted alpha, no retrain interval\n",
    "    \"surrogate_only\", ## Simple surrogate implementation\n",
    "    \"SS-UQ02-NORT_staticalpha\", # Simple surrogate, uq:0.2, no retrain interval\n",
    "    \"DA_RT50\", ## Proxima - dynamica alpha, testing single RT interval of 50 \n",
    "    \"DAallUQ_TEMP1000\", ## Proxima - testing different retrain intervals and UQ's\n",
    "    \"SST1000_bestparameters\", ## Simple surrogate - with different Retrain intervals tested\n",
    "    \"SS_RI300\", ## Simple Surrogate with RI 300\n",
    "    \"SS-UQ02_I50\", ## Simple surrogate, uq: 0.2, All temps, RI: 50\n",
    "    \"SS-UQall_I50\", ## Simple surrogate,, all UQ, Temp: 500, RI: 50\n",
    "    \"dyn_nostreak\", ##Proxima - dynamic alpha, no surrogate streak option\n",
    "]\n",
    "root_path = \"../proxima_data\""
   ]
  },
  {
   "cell_type": "code",
   "execution_count": 10,
   "metadata": {},
   "outputs": [
    {
     "data": {
      "text/plain": [
       "532.3645715755877"
      ]
     },
     "execution_count": 10,
     "metadata": {},
     "output_type": "execute_result"
    }
   ],
   "source": [
    "root_path_hf = \"../proxima_data\"\n",
    "path_str = \"/\".join([root_path_hf,\"runtime_s1_data.csv\"])\n",
    "hf_times = pd.read_csv(path_str)\n",
    "average_rt = hf_times['Runtime[s]'].mean()\n",
    "average_rt"
   ]
  },
  {
   "cell_type": "code",
   "execution_count": 11,
   "metadata": {},
   "outputs": [],
   "source": [
    "results = {n: None for n in experiments}\n",
    "for name in results:\n",
    "    path_str = \"/\".join([root_path, name, \"*\"])\n",
    "    path = glob.glob(path_str)\n",
    "    uq_thresholds, int_list, total_time, uq_time, speed_up = pa.process_times(path,hf_times)\n",
    "    time_df = pa.time_to_df(uq_time)\n",
    "    speedup_df = pa.speedup_to_df(speed_up)\n",
    "    mae_values = pa.process_mae(path)\n",
    "    mae_df = pa.mae_to_df(mae_values)\n",
    "    #results[name] = time_df.merge(mae_df, on=[\"uq\", \"interval\",\"temperature\"], how=\"inner\")\n",
    "    time_mae = time_df.merge(mae_df, on=[\"uq\", \"interval\",\"temperature\"], how=\"inner\")\n",
    "    results[name]=speedup_df.merge(time_mae, on=[\"uq\", \"interval\",\"temperature\"], how=\"inner\")"
   ]
  },
  {
   "cell_type": "code",
   "execution_count": 12,
   "metadata": {},
   "outputs": [
    {
     "data": {
      "text/html": [
       "<div>\n",
       "<style scoped>\n",
       "    .dataframe tbody tr th:only-of-type {\n",
       "        vertical-align: middle;\n",
       "    }\n",
       "\n",
       "    .dataframe tbody tr th {\n",
       "        vertical-align: top;\n",
       "    }\n",
       "\n",
       "    .dataframe thead th {\n",
       "        text-align: right;\n",
       "    }\n",
       "</style>\n",
       "<table border=\"1\" class=\"dataframe\">\n",
       "  <thead>\n",
       "    <tr style=\"text-align: right;\">\n",
       "      <th></th>\n",
       "      <th>uq</th>\n",
       "      <th>interval</th>\n",
       "      <th>temperature</th>\n",
       "      <th>speed_up</th>\n",
       "      <th>time</th>\n",
       "      <th>mae</th>\n",
       "    </tr>\n",
       "  </thead>\n",
       "  <tbody>\n",
       "    <tr>\n",
       "      <th>0</th>\n",
       "      <td>0.1</td>\n",
       "      <td>50</td>\n",
       "      <td>500</td>\n",
       "      <td>0.619</td>\n",
       "      <td>855.027</td>\n",
       "      <td>0.000162</td>\n",
       "    </tr>\n",
       "    <tr>\n",
       "      <th>1</th>\n",
       "      <td>0.2</td>\n",
       "      <td>50</td>\n",
       "      <td>500</td>\n",
       "      <td>1.154</td>\n",
       "      <td>458.786</td>\n",
       "      <td>0.000665</td>\n",
       "    </tr>\n",
       "    <tr>\n",
       "      <th>2</th>\n",
       "      <td>0.3</td>\n",
       "      <td>50</td>\n",
       "      <td>500</td>\n",
       "      <td>2.314</td>\n",
       "      <td>228.795</td>\n",
       "      <td>0.001788</td>\n",
       "    </tr>\n",
       "    <tr>\n",
       "      <th>3</th>\n",
       "      <td>0.4</td>\n",
       "      <td>50</td>\n",
       "      <td>500</td>\n",
       "      <td>3.963</td>\n",
       "      <td>133.559</td>\n",
       "      <td>0.003104</td>\n",
       "    </tr>\n",
       "    <tr>\n",
       "      <th>4</th>\n",
       "      <td>0.5</td>\n",
       "      <td>50</td>\n",
       "      <td>500</td>\n",
       "      <td>5.996</td>\n",
       "      <td>88.287</td>\n",
       "      <td>0.007536</td>\n",
       "    </tr>\n",
       "    <tr>\n",
       "      <th>5</th>\n",
       "      <td>0.6</td>\n",
       "      <td>50</td>\n",
       "      <td>500</td>\n",
       "      <td>8.783</td>\n",
       "      <td>60.266</td>\n",
       "      <td>0.010630</td>\n",
       "    </tr>\n",
       "    <tr>\n",
       "      <th>6</th>\n",
       "      <td>0.7</td>\n",
       "      <td>50</td>\n",
       "      <td>500</td>\n",
       "      <td>10.715</td>\n",
       "      <td>49.402</td>\n",
       "      <td>0.014648</td>\n",
       "    </tr>\n",
       "  </tbody>\n",
       "</table>\n",
       "</div>"
      ],
      "text/plain": [
       "    uq  interval  temperature  speed_up     time       mae\n",
       "0  0.1        50          500     0.619  855.027  0.000162\n",
       "1  0.2        50          500     1.154  458.786  0.000665\n",
       "2  0.3        50          500     2.314  228.795  0.001788\n",
       "3  0.4        50          500     3.963  133.559  0.003104\n",
       "4  0.5        50          500     5.996   88.287  0.007536\n",
       "5  0.6        50          500     8.783   60.266  0.010630\n",
       "6  0.7        50          500    10.715   49.402  0.014648"
      ]
     },
     "execution_count": 12,
     "metadata": {},
     "output_type": "execute_result"
    }
   ],
   "source": [
    "results[\"SS-UQall_I50\"]"
   ]
  },
  {
   "cell_type": "code",
   "execution_count": 13,
   "metadata": {},
   "outputs": [],
   "source": [
    "def graph_values(name):\n",
    "    _t_sa = results[name]['time']\n",
    "    _speedup_sa = results[name]['speed_up']\n",
    "    _temp_sa = results[name]['temperature']\n",
    "    _mae_sa = results[name]['mae']\n",
    "   \n",
    "    _temp_sa, _t_sa, _mae_sa = zip(*sorted(zip(_temp_sa, _t_sa,_mae_sa)))\n",
    "    hm_mae_sa = stat.harmonic_mean(_mae_sa)\n",
    "    hm_t_sa = stat.harmonic_mean(_t_sa)\n",
    "    _mae_sa = _mae_sa + (hm_mae_sa,)\n",
    "    _t_sa = _t_sa + (hm_t_sa,)\n",
    "    _temp_sa = _temp_sa + ('HM',)\n",
    "    return _mae_sa,_t_sa, _temp_sa\n",
    "    \n",
    "_mae_sa,_t_sa,_temp_sa = graph_values(\"NORT-Proxima_static-alpha\")\n",
    "_mae_da,_t_da,_temp_da = graph_values(\"NORT-Proxima_dynamicalpha\")\n",
    "_mae_ssnort,_t_ssnort, _temp_ssnort = graph_values(\"SS-UQ02-NORT_staticalpha\")\n",
    "_mae_ss,_t_ss,_temp_ss = graph_values(\"SS-UQ02_I50\")\n",
    "_mae_ss300,_t_ss300,_temp_ss300 = graph_values(\"SS_RI300\")\n",
    "_mae_nostreak, _t_nostreak, _temp_nostreak = graph_values(\"dyn_nostreak\")"
   ]
  },
  {
   "cell_type": "code",
   "execution_count": 18,
   "metadata": {},
   "outputs": [
    {
     "data": {
      "image/png": "[encoded data removed]",
      "text/plain": [
       "<Figure size 864x360 with 1 Axes>"
      ]
     },
     "metadata": {
      "needs_background": "light"
     },
     "output_type": "display_data"
    }
   ],
   "source": [
    "RI= True #set true or false depending on retrain interval usage\n",
    "SS = False #Comparing with simple surrogate\n",
    "labels = list(_temp_ssnort)\n",
    "\n",
    "x = np.arange(len(labels))  # the label locations\n",
    "width = 0.20  # the width of the bars\n",
    "fig, ax = plt.subplots(figsize=(12,5))\n",
    "\n",
    "rects1 = ax.bar(x + width/2, list(_mae_da), width, label='Dynamica Proxima')\n",
    "rects2 = ax.bar(x - width/2, list(_mae_sa), width, label='Static Proxima')\n",
    "rects4 = ax.bar(x + (width/2)+width, list(_mae_nostreak), width, label='Dynamic, No streak')\n",
    "if SS:\n",
    "    if RI:\n",
    "        rects3 = ax.bar(x + (width/2)+width*2, list(_mae_ss300), width, label='Simple Surrogate, RI=300')\n",
    "    else:\n",
    "        rects3 = ax.bar(x + (width/2)+width*2, list(_mae_ssnort), width, label='Simple Surrogate: No RI')\n",
    "\n",
    "\n",
    "# Add some text for labels, title and custom x-axis tick labels, etc.\n",
    "ax.set_ylabel('Mean Absolute Error')\n",
    "ax.set_xlabel(\"Temperature (K)\")\n",
    "#ax.set_title('Surrogate Method Comparison: Speed-up Across Temperatures')\n",
    "ax.set_xticks(x)\n",
    "ax.set_xticklabels(labels)\n",
    "ax.legend()\n",
    "plt.tight_layout()\n",
    "plt.savefig('Figures/3prox_MAEbar.png')\n"
   ]
  },
  {
   "cell_type": "code",
   "execution_count": null,
   "metadata": {},
   "outputs": [],
   "source": []
  }
 ],
 "metadata": {
  "kernelspec": {
   "display_name": "Python 3",
   "language": "python",
   "name": "python3"
  },
  "language_info": {
   "codemirror_mode": {
    "name": "ipython",
    "version": 3
   },
   "file_extension": ".py",
   "mimetype": "text/x-python",
   "name": "python",
   "nbconvert_exporter": "python",
   "pygments_lexer": "ipython3",
   "version": "3.6.8"
  }
 },
 "nbformat": 4,
 "nbformat_minor": 4
}
